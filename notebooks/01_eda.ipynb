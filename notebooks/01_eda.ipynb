{
 "cells": [
  {
   "cell_type": "markdown",
   "id": "0b31c45e",
   "metadata": {},
   "source": [
    "Exploring raw dataset"
   ]
  },
  {
   "cell_type": "code",
   "execution_count": 2,
   "id": "ebbf409d",
   "metadata": {},
   "outputs": [],
   "source": [
    "import pandas as pd\n",
    "\n",
    "db = pd.read_csv(\"../data/raw/SalesForCourse_quizz_table.csv\")"
   ]
  },
  {
   "cell_type": "markdown",
   "id": "6f06e923",
   "metadata": {},
   "source": [
    "Reading the headers:"
   ]
  },
  {
   "cell_type": "code",
   "execution_count": 3,
   "id": "061e8d64",
   "metadata": {},
   "outputs": [
    {
     "name": "stdout",
     "output_type": "stream",
     "text": [
      "   index      Date    Year     Month  Customer Age Customer Gender  \\\n",
      "0      0  02/19/16  2016.0  February          29.0               F   \n",
      "1      1  02/20/16  2016.0  February          29.0               F   \n",
      "2      2  02/27/16  2016.0  February          29.0               F   \n",
      "3      3  03/12/16  2016.0     March          29.0               F   \n",
      "4      4  03/12/16  2016.0     March          29.0               F   \n",
      "\n",
      "         Country       State Product Category     Sub Category  Quantity  \\\n",
      "0  United States  Washington      Accessories  Tires and Tubes       1.0   \n",
      "1  United States  Washington         Clothing           Gloves       2.0   \n",
      "2  United States  Washington      Accessories  Tires and Tubes       3.0   \n",
      "3  United States  Washington      Accessories  Tires and Tubes       2.0   \n",
      "4  United States  Washington      Accessories  Tires and Tubes       3.0   \n",
      "\n",
      "   Unit Cost  Unit Price   Cost  Revenue  Column1  \n",
      "0      80.00  109.000000   80.0    109.0      NaN  \n",
      "1      24.50   28.500000   49.0     57.0      NaN  \n",
      "2       3.67    5.000000   11.0     15.0      NaN  \n",
      "3      87.50  116.500000  175.0    233.0      NaN  \n",
      "4      35.00   41.666667  105.0    125.0      NaN  \n"
     ]
    }
   ],
   "source": [
    "print(db.head(5))"
   ]
  },
  {
   "cell_type": "markdown",
   "id": "bb70cd79",
   "metadata": {},
   "source": [
    "Reading the info:"
   ]
  },
  {
   "cell_type": "code",
   "execution_count": 4,
   "id": "27e384e4",
   "metadata": {},
   "outputs": [
    {
     "name": "stdout",
     "output_type": "stream",
     "text": [
      "<class 'pandas.core.frame.DataFrame'>\n",
      "RangeIndex: 34867 entries, 0 to 34866\n",
      "Data columns (total 16 columns):\n",
      " #   Column            Non-Null Count  Dtype  \n",
      "---  ------            --------------  -----  \n",
      " 0   index             34867 non-null  int64  \n",
      " 1   Date              34866 non-null  object \n",
      " 2   Year              34866 non-null  float64\n",
      " 3   Month             34866 non-null  object \n",
      " 4   Customer Age      34866 non-null  float64\n",
      " 5   Customer Gender   34866 non-null  object \n",
      " 6   Country           34866 non-null  object \n",
      " 7   State             34866 non-null  object \n",
      " 8   Product Category  34866 non-null  object \n",
      " 9   Sub Category      34866 non-null  object \n",
      " 10  Quantity          34866 non-null  float64\n",
      " 11  Unit Cost         34866 non-null  float64\n",
      " 12  Unit Price        34866 non-null  float64\n",
      " 13  Cost              34866 non-null  float64\n",
      " 14  Revenue           34867 non-null  float64\n",
      " 15  Column1           2574 non-null   float64\n",
      "dtypes: float64(8), int64(1), object(7)\n",
      "memory usage: 4.3+ MB\n",
      "None\n"
     ]
    }
   ],
   "source": [
    "print(db.info())"
   ]
  },
  {
   "cell_type": "code",
   "execution_count": 5,
   "id": "8a427c31",
   "metadata": {},
   "outputs": [
    {
     "name": "stdout",
     "output_type": "stream",
     "text": [
      "              index          Year  Customer Age      Quantity     Unit Cost  \\\n",
      "count  34867.000000  34866.000000  34866.000000  34866.000000  34866.000000   \n",
      "mean   17433.000000   2015.569237     36.382895      2.002524    349.880567   \n",
      "std    10065.380254      0.495190     11.112902      0.813936    490.015846   \n",
      "min        0.000000   2015.000000     17.000000      1.000000      0.670000   \n",
      "25%     8716.500000   2015.000000     28.000000      1.000000     45.000000   \n",
      "50%    17433.000000   2016.000000     35.000000      2.000000    150.000000   \n",
      "75%    26149.500000   2016.000000     44.000000      3.000000    455.000000   \n",
      "max    34866.000000   2016.000000     87.000000      3.000000   3240.000000   \n",
      "\n",
      "         Unit Price          Cost       Revenue      Column1  \n",
      "count  34866.000000  34866.000000  34867.000000  2574.000000  \n",
      "mean     389.232485    576.004532    640.870093   688.054913  \n",
      "std      525.319091    690.500395    736.640033   774.200897  \n",
      "min        0.666667      2.000000      2.000000     2.000000  \n",
      "25%       53.666667     85.000000    102.000000   104.250000  \n",
      "50%      179.000000    261.000000    319.000000   390.500000  \n",
      "75%      521.000000    769.000000    902.000000   975.750000  \n",
      "max     5082.000000   3600.000000   5082.000000  3681.000000  \n"
     ]
    }
   ],
   "source": [
    "print(db.describe())"
   ]
  },
  {
   "cell_type": "markdown",
   "id": "b6c70ae7",
   "metadata": {},
   "source": [
    "Let's see if we can find any missing values."
   ]
  },
  {
   "cell_type": "code",
   "execution_count": 6,
   "id": "b476ed5f",
   "metadata": {},
   "outputs": [
    {
     "name": "stdout",
     "output_type": "stream",
     "text": [
      "index                   0\n",
      "Date                    1\n",
      "Year                    1\n",
      "Month                   1\n",
      "Customer Age            1\n",
      "Customer Gender         1\n",
      "Country                 1\n",
      "State                   1\n",
      "Product Category        1\n",
      "Sub Category            1\n",
      "Quantity                1\n",
      "Unit Cost               1\n",
      "Unit Price              1\n",
      "Cost                    1\n",
      "Revenue                 0\n",
      "Column1             32293\n",
      "dtype: int64\n",
      "index                0.000000\n",
      "Date                 0.002868\n",
      "Year                 0.002868\n",
      "Month                0.002868\n",
      "Customer Age         0.002868\n",
      "Customer Gender      0.002868\n",
      "Country              0.002868\n",
      "State                0.002868\n",
      "Product Category     0.002868\n",
      "Sub Category         0.002868\n",
      "Quantity             0.002868\n",
      "Unit Cost            0.002868\n",
      "Unit Price           0.002868\n",
      "Cost                 0.002868\n",
      "Revenue              0.000000\n",
      "Column1             92.617661\n",
      "dtype: float64\n"
     ]
    }
   ],
   "source": [
    "print(db.isnull().sum())\n",
    "print(db.isnull().mean() * 100)\n",
    "# Check for duplicates"
   ]
  },
  {
   "cell_type": "markdown",
   "id": "f9685970",
   "metadata": {},
   "source": [
    "The column 'Column1' seems to contain many empty cells. All other cols other than index and revenue have just one null entry."
   ]
  },
  {
   "cell_type": "markdown",
   "id": "61608774",
   "metadata": {},
   "source": [
    "Let's look at all the dataypes present."
   ]
  },
  {
   "cell_type": "code",
   "execution_count": 7,
   "id": "e39e6fdd",
   "metadata": {},
   "outputs": [
    {
     "data": {
      "text/plain": [
       "index                 int64\n",
       "Date                 object\n",
       "Year                float64\n",
       "Month                object\n",
       "Customer Age        float64\n",
       "Customer Gender      object\n",
       "Country              object\n",
       "State                object\n",
       "Product Category     object\n",
       "Sub Category         object\n",
       "Quantity            float64\n",
       "Unit Cost           float64\n",
       "Unit Price          float64\n",
       "Cost                float64\n",
       "Revenue             float64\n",
       "Column1             float64\n",
       "dtype: object"
      ]
     },
     "execution_count": 7,
     "metadata": {},
     "output_type": "execute_result"
    }
   ],
   "source": [
    "db.dtypes"
   ]
  },
  {
   "cell_type": "markdown",
   "id": "0bc0d521",
   "metadata": {},
   "source": [
    "Seems consistent, with only one type."
   ]
  },
  {
   "cell_type": "markdown",
   "id": "95a54b5a",
   "metadata": {},
   "source": [
    "Can we find any outliers? Let's take a high level visual look first at age."
   ]
  },
  {
   "cell_type": "code",
   "execution_count": 8,
   "id": "371240e0",
   "metadata": {},
   "outputs": [
    {
     "data": {
      "text/plain": [
       "<Axes: xlabel='Customer Age'>"
      ]
     },
     "execution_count": 8,
     "metadata": {},
     "output_type": "execute_result"
    },
    {
     "data": {
      "image/png": "[encoded data removed]",
      "text/plain": [
       "<Figure size 640x480 with 1 Axes>"
      ]
     },
     "metadata": {},
     "output_type": "display_data"
    }
   ],
   "source": [
    "import matplotlib.pyplot as plt\n",
    "import seaborn as sns\n",
    "\n",
    "sns.boxplot(data=db, x='Customer Age')"
   ]
  },
  {
   "cell_type": "markdown",
   "id": "c6852239",
   "metadata": {},
   "source": [
    "Let's now look at revenue."
   ]
  },
  {
   "cell_type": "code",
   "execution_count": 9,
   "id": "71486845",
   "metadata": {},
   "outputs": [
    {
     "data": {
      "text/plain": [
       "<Axes: xlabel='Revenue'>"
      ]
     },
     "execution_count": 9,
     "metadata": {},
     "output_type": "execute_result"
    },
    {
     "data": {
      "image/png": "[encoded data removed]",
      "text/plain": [
       "<Figure size 640x480 with 1 Axes>"
      ]
     },
     "metadata": {},
     "output_type": "display_data"
    }
   ],
   "source": [
    "sns.boxplot(data=db, x='Revenue')"
   ]
  },
  {
   "cell_type": "code",
   "execution_count": 10,
   "id": "a4e0222c",
   "metadata": {},
   "outputs": [
    {
     "name": "stdout",
     "output_type": "stream",
     "text": [
      "Number of outliers in Revenue: 2801\n"
     ]
    }
   ],
   "source": [
    "Q1 = db['Revenue'].quantile(0.25)\n",
    "Q3 = db['Revenue'].quantile(0.75)\n",
    "IQR = Q3 - Q1\n",
    "\n",
    "outliers = db[(db['Revenue'] < Q1 - 1.5 * IQR) | (db['Revenue'] > Q3 + 1.5 * IQR)]\n",
    "print(\"Number of outliers in Revenue:\", len(outliers))"
   ]
  },
  {
   "cell_type": "markdown",
   "id": "e3dfb12b",
   "metadata": {},
   "source": [
    "Revenue seems to have many outliers, which makes sense."
   ]
  },
  {
   "cell_type": "markdown",
   "id": "af9f491e",
   "metadata": {},
   "source": [
    "Let's take a look at the number of countries present to see if that correlates to real world numbers."
   ]
  },
  {
   "cell_type": "code",
   "execution_count": 11,
   "id": "3d3cd399",
   "metadata": {},
   "outputs": [
    {
     "name": "stdout",
     "output_type": "stream",
     "text": [
      "4\n",
      "['United States' 'France' 'United Kingdom' 'Germany' nan]\n"
     ]
    }
   ],
   "source": [
    "print(db['Country'].nunique())\n",
    "\n",
    "print(db['Country'].unique())"
   ]
  },
  {
   "cell_type": "markdown",
   "id": "c06eeef6",
   "metadata": {},
   "source": [
    "Our data set seems to only include developed nations in NA and EU, which is fine for my needs."
   ]
  }
 ],
 "metadata": {
  "kernelspec": {
   "display_name": "Python 3",
   "language": "python",
   "name": "python3"
  },
  "language_info": {
   "codemirror_mode": {
    "name": "ipython",
    "version": 3
   },
   "file_extension": ".py",
   "mimetype": "text/x-python",
   "name": "python",
   "nbconvert_exporter": "python",
   "pygments_lexer": "ipython3",
   "version": "3.13.3"
  }
 },
 "nbformat": 4,
 "nbformat_minor": 5
}
